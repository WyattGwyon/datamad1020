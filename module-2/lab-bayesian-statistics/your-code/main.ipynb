{
 "cells": [
  {
   "cell_type": "markdown",
   "metadata": {},
   "source": [
    "# Intro to Bayesian Statistics Lab\n",
    "\n",
    "Complete the following set of exercises to solidify your knowledge of Bayesian statistics and Bayesian data analysis."
   ]
  },
  {
   "cell_type": "code",
   "execution_count": 8,
   "metadata": {},
   "outputs": [],
   "source": [
    "import pandas as pd\n",
    "import numpy as np\n",
    "import matplotlib.pyplot as plt"
   ]
  },
  {
   "cell_type": "markdown",
   "metadata": {},
   "source": [
    "## 1. Cookie Problem\n",
    "\n",
    "Suppose we have two bowls of cookies. Bowl 1 contains 30 vanilla cookies and 10 chocolate cookies. Bowl 2 contains 20 of each. You randomly pick one cookie out of one of the bowls, and it is vanilla. Use Bayes Theorem to calculate the probability that the vanilla cookie you picked came from Bowl 1?"
   ]
  },
  {
   "cell_type": "markdown",
   "metadata": {},
   "source": [
    "    - First, we look at the likelihoods of a vanilla cookie from each bowl separately."
   ]
  },
  {
   "cell_type": "code",
   "execution_count": 17,
   "metadata": {},
   "outputs": [],
   "source": [
    "p_V_B1 = 3/4\n",
    "p_V_B2 = 1/2"
   ]
  },
  {
   "cell_type": "markdown",
   "metadata": {},
   "source": [
    "    - We know that the principle of indifference gives 50/50 probability in blindly choosing one of the bowls."
   ]
  },
  {
   "cell_type": "code",
   "execution_count": 18,
   "metadata": {},
   "outputs": [],
   "source": [
    "p_B1 = 1/2\n",
    "p_B2 = 1/2"
   ]
  },
  {
   "cell_type": "markdown",
   "metadata": {},
   "source": [
    "    - We use the sum rule to find the marginal probability of picking 1 vanilla from either bowl:"
   ]
  },
  {
   "cell_type": "code",
   "execution_count": 19,
   "metadata": {},
   "outputs": [],
   "source": [
    "p_V = (p_V_B1 * p_B1) + (p_V_B2 * p_B2)"
   ]
  },
  {
   "cell_type": "markdown",
   "metadata": {},
   "source": [
    "    - Now we just plug in all the values to Bayes Theorem for Inverse Probability  "
   ]
  },
  {
   "cell_type": "code",
   "execution_count": 22,
   "metadata": {},
   "outputs": [
    {
     "data": {
      "text/plain": [
       "0.6"
      ]
     },
     "execution_count": 22,
     "metadata": {},
     "output_type": "execute_result"
    }
   ],
   "source": [
    "p_B1_V = p_V_B1 * p_B1 / p_V\n",
    "p_B1_V # This is the probability of observable data(1 vanilla) reulting from a given process(Bowl 1)"
   ]
  },
  {
   "cell_type": "markdown",
   "metadata": {},
   "source": [
    "What is the probability that it came from Bowl 2?"
   ]
  },
  {
   "cell_type": "code",
   "execution_count": 24,
   "metadata": {},
   "outputs": [
    {
     "data": {
      "text/plain": [
       "0.4"
      ]
     },
     "execution_count": 24,
     "metadata": {},
     "output_type": "execute_result"
    }
   ],
   "source": [
    "p_B2_V = p_V_B2 * p_B2 / p_V\n",
    "p_B2_V # Probability of 1 vanilla resulting from Bowl 2"
   ]
  },
  {
   "cell_type": "markdown",
   "metadata": {},
   "source": [
    "What if the cookie you had picked was chocolate? What are the probabilities that the chocolate cookie came from Bowl 1 and Bowl 2 respectively?"
   ]
  },
  {
   "cell_type": "code",
   "execution_count": 26,
   "metadata": {},
   "outputs": [
    {
     "name": "stdout",
     "output_type": "stream",
     "text": [
      "Prob from Bowl 1: 0.3333333333333333\n",
      "Prob from Bowl 2: 0.6666666666666666\n"
     ]
    }
   ],
   "source": [
    "# Define Likelihoods \n",
    "p_Ch_B1 = 1/4\n",
    "p_Ch_B2 = 1/2\n",
    "\n",
    "# Define Marginal Probability\n",
    "p_Ch = (p_Ch_B1 * p_B1) + (p_Ch_B2 * p_B2)\n",
    "\n",
    "# Bayes Theorem for Inverse Probability\n",
    "p_B1_Ch = p_Ch_B1 * p_B1 / p_Ch\n",
    "p_B2_Ch = p_Ch_B2 * p_B2 / p_Ch\n",
    "print(f\"Prob from Bowl 1: {p_B1_Ch}\")\n",
    "print(f\"Prob from Bowl 2: {p_B2_Ch}\")"
   ]
  },
  {
   "cell_type": "markdown",
   "metadata": {},
   "source": [
    "## 2. Candy Problem\n",
    "\n",
    "Suppose you have two bags of candies:\n",
    "\n",
    "- In Bag 1, the mix of colors is:\n",
    "    - Brown - 30%\n",
    "    - Yellow - 20%\n",
    "    - Red - 20%\n",
    "    - Green - 10%\n",
    "    - Orange - 10%\n",
    "    - Tan - 10%\n",
    "    \n",
    "- In Bag 2, the mix of colors is:\n",
    "    - Blue - 24%\n",
    "    - Green - 20%\n",
    "    - Orange - 16%\n",
    "    - Yellow - 14%\n",
    "    - Red - 13%\n",
    "    - Brown - 13%\n",
    "    \n",
    "Not knowing which bag is which, you randomly draw one candy from each bag. One is yellow and one is green. What is the probability that the yellow one came from the Bag 1?\n",
    "\n",
    "*Hint: For the likelihoods, you will need to multiply the probabilities of drawing yellow from one bag and green from the other bag and vice versa.*"
   ]
  },
  {
   "cell_type": "code",
   "execution_count": 58,
   "metadata": {},
   "outputs": [
    {
     "name": "stdout",
     "output_type": "stream",
     "text": [
      "Prob of Yellow from Bag 1: 0.7407407407407408\n"
     ]
    }
   ],
   "source": [
    "# Yellow Likelihoods first\n",
    "p_Y_B1 = (1/5)*(1/5)\n",
    "p_Y_B2 = (7/50)*(1/10)\n",
    "\n",
    "# Principle of Indifference\n",
    "p_B1 = 1/2\n",
    "p_B2 = 1/2\n",
    "\n",
    "# Marginal Probabalility with Sum Rule\n",
    "p_Y = (p_Y_B1 * p_B1) + (p_Y_B2 * p_B2)\n",
    "\n",
    "# Bayes Theorem\n",
    "p_B1_Y = (p_Y_B1 * p_B1) / p_Y\n",
    "p_B2_Y = (p_Y_B2 * p_B2) / p_Y\n",
    "print(f\"Prob of Yellow from Bag 1: {p_B1_Y}\")"
   ]
  },
  {
   "cell_type": "markdown",
   "metadata": {},
   "source": [
    "What is the probability that the yellow candy came from Bag 2?"
   ]
  },
  {
   "cell_type": "code",
   "execution_count": 59,
   "metadata": {},
   "outputs": [
    {
     "name": "stdout",
     "output_type": "stream",
     "text": [
      "Prob of Yellow from Bag 2: 0.25925925925925924\n"
     ]
    }
   ],
   "source": [
    "print(f\"Prob of Yellow from Bag 2: {p_B2_Y}\")"
   ]
  },
  {
   "cell_type": "markdown",
   "metadata": {},
   "source": [
    "What are the probabilities that the green one came from Bag 1 and Bag 2 respectively?"
   ]
  },
  {
   "cell_type": "code",
   "execution_count": 50,
   "metadata": {},
   "outputs": [
    {
     "name": "stdout",
     "output_type": "stream",
     "text": [
      "Prob of Green from Bag 1: 0.25925925925925924\n",
      "Prob of Green from Bag 2: 0.7407407407407408\n"
     ]
    }
   ],
   "source": [
    "# Green Likelihoods \n",
    "p_G_B1 = (1/10)*(7/50)\n",
    "p_G_B2 = (1/5)*(1/5)\n",
    "\n",
    "# Marginal\n",
    "p_G = (p_G_B1 * p_B1) + (p_G_B2 * p_B2)\n",
    "\n",
    "# Bayes\n",
    "p_B1_G = (p_G_B1 * p_B1) / p_G\n",
    "p_B2_G = (p_G_B2 * p_B1) / p_G\n",
    "print(f\"Prob of Green from Bag 1: {p_B1_G}\")\n",
    "print(f\"Prob of Green from Bag 2: {p_B2_G}\")"
   ]
  },
  {
   "cell_type": "markdown",
   "metadata": {},
   "source": [
    "## 3. Monty Hall Problem\n",
    "\n",
    "Suppose you are a contestant on the popular game show *Let's Make a Deal*. The host of the show (Monty Hall) presents you with three doors - Door A, Door B, and Door C. He tells you that there is a sports car behind one of them and if you choose the correct one, you win the car!\n",
    "\n",
    "You select Door A, but then Monty makes things a little more interesting. He opens Door B to reveal that there is no sports car behind it and asks you if you would like to stick with your choice of Door A or switch your choice to Door C. Given this new information, what are the probabilities of you winning the car if you stick with Door A versus if you switch to Door C?"
   ]
  },
  {
   "cell_type": "code",
   "execution_count": 56,
   "metadata": {},
   "outputs": [
    {
     "name": "stdout",
     "output_type": "stream",
     "text": [
      "Probability of winning if stay with door A: 0.3333333333333333\n",
      "Probability of winning if changing to door C: 0.6666666666666666\n"
     ]
    }
   ],
   "source": [
    "# choosing one ot he three doors is indifferent\n",
    "prior_prob = 1/3 \n",
    "\n",
    "# three equal possibilities for the car \n",
    "p_car_inA = 1/3\n",
    "p_car_inB = 1/3\n",
    "p_car_inC = 1/3\n",
    "\n",
    "# I select door A, host opens door B \n",
    "p_openB_wth_car_inA = 1/2 #the host has equal 50/50 choice between B and C\n",
    "p_openB_wth_car_inB = 0 #if car is B, there is 0 chance of opening B\n",
    "p_openB_wth_car_inC = 1 #the host cannot choose to open A because its my choice or C because its car\n",
    "\n",
    "\n",
    "# Marginal prob\n",
    "p_doorB = (p_openB_wth_car_inA * p_car_inA) + (p_openB_wth_car_inB * p_car_inB) + (p_openB_wth_car_inC * p_car_inC)\n",
    "\n",
    "\n",
    "\n",
    "# probabilities of winning with same choice\n",
    "p_win_same_choiceA_openB = (p_openB_wth_car_inA * prior_prob)/p_doorB\n",
    "\n",
    "\n",
    "# probabilites of winning with change\n",
    "p_win_change_choiceC_openB = (p_openB_wth_car_inC * prior_prob)/p_doorB\n",
    "\n",
    "print(f\"Probability of winning if stay with door A: {p_win_same_choiceA_openB}\")\n",
    "print(f\"Probability of winning if changing to door C: {p_win_change_choiceC_openB}\")"
   ]
  },
  {
   "cell_type": "markdown",
   "metadata": {},
   "source": [
    "## 4. Bayesian Analysis \n",
    "\n",
    "Suppose you work for a landscaping company, and they want to advertise their service online. They create an ad and sit back waiting for the money to roll in. On the first day, the ad sends 100 visitors to the site and 14 of them sign up for landscaping services. Create a generative model to come up with the posterior distribution and produce a visualization of what the posterior distribution would look like given the observed data."
   ]
  },
  {
   "cell_type": "code",
   "execution_count": null,
   "metadata": {},
   "outputs": [],
   "source": [
    "p_signup = 14/100"
   ]
  },
  {
   "cell_type": "markdown",
   "metadata": {},
   "source": [
    "Produce a set of descriptive statistics for the posterior distribution."
   ]
  },
  {
   "cell_type": "code",
   "execution_count": null,
   "metadata": {},
   "outputs": [],
   "source": []
  },
  {
   "cell_type": "markdown",
   "metadata": {},
   "source": [
    "What is the 90% credible interval range?"
   ]
  },
  {
   "cell_type": "code",
   "execution_count": null,
   "metadata": {},
   "outputs": [],
   "source": []
  },
  {
   "cell_type": "markdown",
   "metadata": {},
   "source": [
    "What is the Maximum Likelihood Estimate?"
   ]
  },
  {
   "cell_type": "code",
   "execution_count": null,
   "metadata": {},
   "outputs": [],
   "source": []
  }
 ],
 "metadata": {
  "kernelspec": {
   "display_name": "Python 3",
   "language": "python",
   "name": "python3"
  },
  "language_info": {
   "codemirror_mode": {
    "name": "ipython",
    "version": 3
   },
   "file_extension": ".py",
   "mimetype": "text/x-python",
   "name": "python",
   "nbconvert_exporter": "python",
   "pygments_lexer": "ipython3",
   "version": "3.8.5"
  }
 },
 "nbformat": 4,
 "nbformat_minor": 2
}
