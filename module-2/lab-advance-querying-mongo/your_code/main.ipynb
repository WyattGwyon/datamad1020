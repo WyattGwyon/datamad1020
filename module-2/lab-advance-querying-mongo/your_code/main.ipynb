{
 "cells": [
  {
   "cell_type": "markdown",
   "metadata": {},
   "source": [
    "# Advanced Querying Mongo"
   ]
  },
  {
   "cell_type": "markdown",
   "metadata": {},
   "source": [
    "Importing libraries and setting up connection"
   ]
  },
  {
   "cell_type": "code",
   "execution_count": 2,
   "metadata": {},
   "outputs": [],
   "source": [
    "# in terminal\n",
    "# mongoimport --db companies --collection companies --file companies.json\n",
    "\n",
    "from pymongo import MongoClient\n",
    "client = MongoClient(\"mongodb://localhost\")\n",
    "db = client.get_database(\"companies\")\n"
   ]
  },
  {
   "cell_type": "code",
   "execution_count": 8,
   "metadata": {},
   "outputs": [
    {
     "data": {
      "text/plain": [
       "18801"
      ]
     },
     "execution_count": 8,
     "metadata": {},
     "output_type": "execute_result"
    }
   ],
   "source": [
    "comp = db.companies.find({})\n",
    "comp = list(comp)\n",
    "len(comp)"
   ]
  },
  {
   "cell_type": "code",
   "execution_count": 19,
   "metadata": {},
   "outputs": [
    {
     "name": "stdout",
     "output_type": "stream",
     "text": [
      "{'founded_day', 'number_of_employees', 'blog_url', 'ipo', 'relationships', 'founded_month', 'partners', '_id', 'image', 'competitions', 'total_money_raised', 'external_links', 'created_at', 'homepage_url', 'blog_feed_url', 'category_code', 'screenshots', 'offices', 'email_address', 'updated_at', 'products', 'tag_list', 'acquisitions', 'funding_rounds', 'video_embeds', 'milestones', 'deadpooled_day', 'overview', 'founded_year', 'twitter_username', 'acquisition', 'permalink', 'phone_number', 'crunchbase_url', 'description', 'deadpooled_month', 'alias_list', 'deadpooled_url', 'deadpooled_year', 'investments', 'name', 'providerships'}\n"
     ]
    }
   ],
   "source": [
    "# We are going to look for all the keys collection for reference\n",
    "all_doc = list(db.companies.find({}))\n",
    "keys = list(map(lambda x: x.keys(), all_doc))\n",
    "print(set([k for lst in keys for k in lst]))"
   ]
  },
  {
   "cell_type": "markdown",
   "metadata": {},
   "source": [
    "### 1. All the companies whose name match 'Babelgum'. Retrieve only their `name` field."
   ]
  },
  {
   "cell_type": "code",
   "execution_count": 17,
   "metadata": {},
   "outputs": [
    {
     "data": {
      "text/plain": [
       "[{'name': 'Babelgum'}]"
      ]
     },
     "execution_count": 17,
     "metadata": {},
     "output_type": "execute_result"
    }
   ],
   "source": [
    "list(db.companies.find({\"name\":\"Babelgum\"},{\"name\":1,\"_id\":0}))\n"
   ]
  },
  {
   "cell_type": "markdown",
   "metadata": {},
   "source": [
    "### 2. All the companies that have more than 5000 employees. Limit the search to 20 companies and sort them by **number of employees**."
   ]
  },
  {
   "cell_type": "code",
   "execution_count": 82,
   "metadata": {},
   "outputs": [
    {
     "data": {
      "text/plain": [
       "[{'name': 'Siemens', 'number_of_employees': 405000},\n",
       " {'name': 'IBM', 'number_of_employees': 388000},\n",
       " {'name': 'Toyota', 'number_of_employees': 320000},\n",
       " {'name': 'PayPal', 'number_of_employees': 300000},\n",
       " {'name': 'Nippon Telegraph and Telephone Corporation',\n",
       "  'number_of_employees': 227000},\n",
       " {'name': 'Samsung Electronics', 'number_of_employees': 221726},\n",
       " {'name': 'Accenture', 'number_of_employees': 205000},\n",
       " {'name': 'Tata Consultancy Services', 'number_of_employees': 200300},\n",
       " {'name': 'Flextronics International', 'number_of_employees': 200000},\n",
       " {'name': 'Safeway', 'number_of_employees': 186000},\n",
       " {'name': 'Sony', 'number_of_employees': 180500},\n",
       " {'name': 'LG', 'number_of_employees': 177000},\n",
       " {'name': 'Ford', 'number_of_employees': 171000},\n",
       " {'name': 'Boeing', 'number_of_employees': 160000},\n",
       " {'name': 'Digital Equipment Corporation', 'number_of_employees': 140000},\n",
       " {'name': 'Nokia', 'number_of_employees': 125000},\n",
       " {'name': 'MItsubishi Electric', 'number_of_employees': 107000},\n",
       " {'name': 'MItsubishi Electric', 'number_of_employees': 107000},\n",
       " {'name': 'Bertelsmann', 'number_of_employees': 100000},\n",
       " {'name': 'Comcast', 'number_of_employees': 100000}]"
      ]
     },
     "execution_count": 82,
     "metadata": {},
     "output_type": "execute_result"
    }
   ],
   "source": [
    "filter_q = {\"number_of_employees\":{\"$gt\": 5000}}\n",
    "project = {\"_id\":0,\"name\":1, \"number_of_employees\": 1}\n",
    "list(db.companies.find(filter_q, project).sort([(\"number_of_employees\",-1)]).limit(20))\n"
   ]
  },
  {
   "cell_type": "markdown",
   "metadata": {},
   "source": [
    "### 3. All the companies founded between 2000 and 2005, both years included. Retrieve only the `name` and `founded_year` fields."
   ]
  },
  {
   "cell_type": "code",
   "execution_count": 57,
   "metadata": {},
   "outputs": [
    {
     "data": {
      "text/plain": [
       "[{'name': 'Zoho', 'founded_year': 2005},\n",
       " {'name': 'Omnidrive', 'founded_year': 2005},\n",
       " {'name': 'Wetpaint', 'founded_year': 2005},\n",
       " {'name': 'Gizmoz', 'founded_year': 2003},\n",
       " {'name': 'Digg', 'founded_year': 2004},\n",
       " {'name': 'Helio', 'founded_year': 2005},\n",
       " {'name': 'StumbleUpon', 'founded_year': 2002},\n",
       " {'name': 'Plaxo', 'founded_year': 2002},\n",
       " {'name': 'Facebook', 'founded_year': 2004},\n",
       " {'name': 'Technorati', 'founded_year': 2002},\n",
       " {'name': 'Veoh', 'founded_year': 2004},\n",
       " {'name': 'Meetup', 'founded_year': 2002},\n",
       " {'name': 'Wesabe', 'founded_year': 2005},\n",
       " {'name': 'SmugMug', 'founded_year': 2002},\n",
       " {'name': 'LifeLock', 'founded_year': 2005},\n",
       " {'name': 'Jangl SMS', 'founded_year': 2005},\n",
       " {'name': 'Jingle Networks', 'founded_year': 2005},\n",
       " {'name': 'AddThis', 'founded_year': 2004},\n",
       " {'name': 'Jajah', 'founded_year': 2005},\n",
       " {'name': 'Pando Networks', 'founded_year': 2004}]"
      ]
     },
     "execution_count": 57,
     "metadata": {},
     "output_type": "execute_result"
    }
   ],
   "source": [
    "filter_q = { \"founded_year\":{\"$gte\": 2000, \"$lte\":2005} }\n",
    "project = {\"_id\":0,\"name\":1, \"founded_year\": 1}\n",
    "list( db.companies.find(filter_q, project) )[:20]\n"
   ]
  },
  {
   "cell_type": "markdown",
   "metadata": {},
   "source": [
    "### 4. All the companies that had a Valuation Amount of more than 100.000.000 and have been founded before 2010. Retrieve only the `name` and `ipo` fields."
   ]
  },
  {
   "cell_type": "code",
   "execution_count": 115,
   "metadata": {},
   "outputs": [
    {
     "data": {
      "text/plain": [
       "[{'name': 'Twitter',\n",
       "  'ipo': {'valuation_amount': 18100000000,\n",
       "   'valuation_currency_code': 'USD',\n",
       "   'pub_year': 2013,\n",
       "   'pub_month': 11,\n",
       "   'pub_day': 7,\n",
       "   'stock_symbol': 'NYSE:TWTR'}},\n",
       " {'name': 'Facebook',\n",
       "  'ipo': {'valuation_amount': 104000000000,\n",
       "   'valuation_currency_code': 'USD',\n",
       "   'pub_year': 2012,\n",
       "   'pub_month': 5,\n",
       "   'pub_day': 18,\n",
       "   'stock_symbol': 'NASDAQ:FB'}},\n",
       " {'name': 'Amazon',\n",
       "  'ipo': {'valuation_amount': 100000000000,\n",
       "   'valuation_currency_code': 'USD',\n",
       "   'pub_year': 1997,\n",
       "   'pub_month': 5,\n",
       "   'pub_day': None,\n",
       "   'stock_symbol': 'NASDAQ:AMZN'}},\n",
       " {'name': 'Tencent',\n",
       "  'ipo': {'valuation_amount': 11000000000,\n",
       "   'valuation_currency_code': 'USD',\n",
       "   'pub_year': 2004,\n",
       "   'pub_month': 6,\n",
       "   'pub_day': 16,\n",
       "   'stock_symbol': 'HK:0700'}},\n",
       " {'name': 'Groupon',\n",
       "  'ipo': {'valuation_amount': 12800000000,\n",
       "   'valuation_currency_code': 'USD',\n",
       "   'pub_year': 2011,\n",
       "   'pub_month': 11,\n",
       "   'pub_day': 7,\n",
       "   'stock_symbol': 'NASDAQ:GRPN'}}]"
      ]
     },
     "execution_count": 115,
     "metadata": {},
     "output_type": "execute_result"
    }
   ],
   "source": [
    "filter_q = { \"founded_year\":{\"$lt\": 2010} , \"ipo.valuation_amount\":{\"$gt\":100_000_000_00}}\n",
    "project = {\"_id\":0,\"name\":1, \"ipo\": 1}\n",
    "list( db.companies.find(filter_q, project) )[:5]"
   ]
  },
  {
   "cell_type": "markdown",
   "metadata": {},
   "source": [
    "### 5. All the companies that have less than 1000 employees and have been founded before 2005. Order them by the number of employees and limit the search to 10 companies."
   ]
  },
  {
   "cell_type": "code",
   "execution_count": 81,
   "metadata": {},
   "outputs": [
    {
     "data": {
      "text/plain": [
       "[{'name': 'Infinera Corporation',\n",
       "  'number_of_employees': 974,\n",
       "  'founded_year': 2000},\n",
       " {'name': 'NorthPoint Communications Group',\n",
       "  'number_of_employees': 948,\n",
       "  'founded_year': 1997},\n",
       " {'name': '888 Holdings', 'number_of_employees': 931, 'founded_year': 1997},\n",
       " {'name': 'Forrester Research',\n",
       "  'number_of_employees': 903,\n",
       "  'founded_year': 1983},\n",
       " {'name': 'SonicWALL', 'number_of_employees': 900, 'founded_year': 1991},\n",
       " {'name': 'Webmetrics', 'number_of_employees': 900, 'founded_year': 1999},\n",
       " {'name': 'Cornerstone OnDemand',\n",
       "  'number_of_employees': 881,\n",
       "  'founded_year': 1999},\n",
       " {'name': 'LivingLink', 'number_of_employees': 800, 'founded_year': 1971},\n",
       " {'name': 'Gateway TechnoLabs Pvt Ltd',\n",
       "  'number_of_employees': 800,\n",
       "  'founded_year': 1995},\n",
       " {'name': 'Good Technology', 'number_of_employees': 800, 'founded_year': 1996}]"
      ]
     },
     "execution_count": 81,
     "metadata": {},
     "output_type": "execute_result"
    }
   ],
   "source": [
    "filter_q = { \"number_of_employees\":{\"$lt\": 1000} , \"founded_year\":{\"$lt\":2005}}\n",
    "project = {\"_id\":0,\"name\":1, \"number_of_employees\": 1, \"founded_year\":1 }\n",
    "list( db.companies.find(filter_q, project).sort( [(\"number_of_employees\",-1)] ).limit(1000) )[:10]"
   ]
  },
  {
   "cell_type": "markdown",
   "metadata": {},
   "source": [
    "### 6. All the companies that don't include the `partners` field."
   ]
  },
  {
   "cell_type": "code",
   "execution_count": 91,
   "metadata": {},
   "outputs": [
    {
     "data": {
      "text/plain": [
       "[{'name': 'AdventNet'},\n",
       " {'name': 'Flektor'},\n",
       " {'name': 'Zoho'},\n",
       " {'name': 'Omnidrive'},\n",
       " {'name': 'Wetpaint'},\n",
       " {'name': 'Postini'},\n",
       " {'name': 'Geni'},\n",
       " {'name': 'Gizmoz'},\n",
       " {'name': 'Digg'},\n",
       " {'name': 'Helio'},\n",
       " {'name': 'Fox Interactive Media'},\n",
       " {'name': 'Lala'},\n",
       " {'name': 'Scribd'},\n",
       " {'name': 'Slacker'},\n",
       " {'name': 'StumbleUpon'},\n",
       " {'name': 'MeetMoi'},\n",
       " {'name': 'Babelgum'},\n",
       " {'name': 'Joost'},\n",
       " {'name': 'CBS'},\n",
       " {'name': 'Plaxo'}]"
      ]
     },
     "execution_count": 91,
     "metadata": {},
     "output_type": "execute_result"
    }
   ],
   "source": [
    "filter_q = { \"partners\" : { \"$exists\" : \"false\" } }\n",
    "project = { \"_id\":0, \"name\":1 }\n",
    "list( db.companies.find(filter_q, project)) [:20]\n"
   ]
  },
  {
   "cell_type": "markdown",
   "metadata": {},
   "source": [
    "### 7. All the companies that have a null type of value on the `category_code` field."
   ]
  },
  {
   "cell_type": "code",
   "execution_count": 94,
   "metadata": {},
   "outputs": [
    {
     "data": {
      "text/plain": [
       "[{'name': 'Collective'},\n",
       " {'name': 'Snimmer'},\n",
       " {'name': 'KoolIM'},\n",
       " {'name': 'Level9 Media'},\n",
       " {'name': 'VidKing'},\n",
       " {'name': 'Drigg'},\n",
       " {'name': 'SpaceTime'},\n",
       " {'name': 'MMDAYS'},\n",
       " {'name': 'Inside Group'},\n",
       " {'name': 'Touch Clarity'},\n",
       " {'name': 'Repeater Store'},\n",
       " {'name': 'Tapesh'},\n",
       " {'name': 'iPersians'},\n",
       " {'name': 'NewPersia'},\n",
       " {'name': 'Pyra Labs'},\n",
       " {'name': 'Feedmap'},\n",
       " {'name': 'NuvoMedia'},\n",
       " {'name': 'Intwine'},\n",
       " {'name': 'The Weinstein Company'},\n",
       " {'name': 'ExecuNet'}]"
      ]
     },
     "execution_count": 94,
     "metadata": {},
     "output_type": "execute_result"
    }
   ],
   "source": [
    "filter_q = { \"category_code\" : None }\n",
    "project = { \"_id\":0, \"name\":1 }\n",
    "list( db.companies.find(filter_q, project)) [:20]"
   ]
  },
  {
   "cell_type": "markdown",
   "metadata": {},
   "source": [
    "### 8. All the companies that have at least 100 employees but less than 1000. Retrieve only the `name` and `number of employees` fields."
   ]
  },
  {
   "cell_type": "code",
   "execution_count": 62,
   "metadata": {},
   "outputs": [
    {
     "data": {
      "text/plain": [
       "[{'name': 'AdventNet', 'number_of_employees': 600},\n",
       " {'name': 'OpenX', 'number_of_employees': 305},\n",
       " {'name': 'LifeLock', 'number_of_employees': 644},\n",
       " {'name': 'AddThis', 'number_of_employees': 120},\n",
       " {'name': 'Jajah', 'number_of_employees': 110},\n",
       " {'name': 'Livestream', 'number_of_employees': 120},\n",
       " {'name': 'Ustream', 'number_of_employees': 250},\n",
       " {'name': 'iContact', 'number_of_employees': 300},\n",
       " {'name': 'Yelp', 'number_of_employees': 800},\n",
       " {'name': 'Dailymotion', 'number_of_employees': 120},\n",
       " {'name': 'RockYou', 'number_of_employees': 106},\n",
       " {'name': 'Meebo', 'number_of_employees': 200},\n",
       " {'name': 'Eventbrite', 'number_of_employees': 200},\n",
       " {'name': 'Conduit', 'number_of_employees': 215},\n",
       " {'name': 'Box', 'number_of_employees': 950},\n",
       " {'name': 'Redfin', 'number_of_employees': 100},\n",
       " {'name': 'Simply Hired', 'number_of_employees': 100},\n",
       " {'name': 'oDesk', 'number_of_employees': 120},\n",
       " {'name': 'PhotoBox', 'number_of_employees': 600},\n",
       " {'name': 'Spreadshirt', 'number_of_employees': 230}]"
      ]
     },
     "execution_count": 62,
     "metadata": {},
     "output_type": "execute_result"
    }
   ],
   "source": [
    "filter_q = { \"number_of_employees\":{\"$gte\": 100, \"$lt\": 1000} }\n",
    "project = {\"_id\":0,\"name\":1, \"number_of_employees\": 1}\n",
    "list( db.companies.find(filter_q, project) )[:20]"
   ]
  },
  {
   "cell_type": "markdown",
   "metadata": {},
   "source": [
    "### 9. Order all the companies by their IPO price in a descending order."
   ]
  },
  {
   "cell_type": "code",
   "execution_count": 104,
   "metadata": {},
   "outputs": [
    {
     "data": {
      "text/plain": [
       "[{'name': 'GREE', 'ipo': {'valuation_amount': 108960000000}},\n",
       " {'name': 'Facebook', 'ipo': {'valuation_amount': 104000000000}},\n",
       " {'name': 'Amazon', 'ipo': {'valuation_amount': 100000000000}},\n",
       " {'name': 'Twitter', 'ipo': {'valuation_amount': 18100000000}},\n",
       " {'name': 'Groupon', 'ipo': {'valuation_amount': 12800000000}},\n",
       " {'name': 'Tencent', 'ipo': {'valuation_amount': 11000000000}},\n",
       " {'name': 'Western Digital', 'ipo': {'valuation_amount': 9430000000}},\n",
       " {'name': 'LinkedIn', 'ipo': {'valuation_amount': 9310000000}},\n",
       " {'name': 'BMC Software', 'ipo': {'valuation_amount': 6000000000}},\n",
       " {'name': 'Rackspace', 'ipo': {'valuation_amount': 5440000000}},\n",
       " {'name': 'Baidu', 'ipo': {'valuation_amount': 4000000000}},\n",
       " {'name': 'TripAdvisor', 'ipo': {'valuation_amount': 3273770000}},\n",
       " {'name': 'HomeAway', 'ipo': {'valuation_amount': 3000000000}},\n",
       " {'name': 'Zillow', 'ipo': {'valuation_amount': 2550000000}},\n",
       " {'name': 'Nielsen', 'ipo': {'valuation_amount': 1600000000}},\n",
       " {'name': 'Yelp', 'ipo': {'valuation_amount': 1300000000}},\n",
       " {'name': 'Chegg', 'ipo': {'valuation_amount': 1100000000}},\n",
       " {'name': 'Chegg', 'ipo': {'valuation_amount': 1100000000}},\n",
       " {'name': 'RPX Corporation', 'ipo': {'valuation_amount': 1096000000}},\n",
       " {'name': 'Higher One', 'ipo': {'valuation_amount': 1060000000}}]"
      ]
     },
     "execution_count": 104,
     "metadata": {},
     "output_type": "execute_result"
    }
   ],
   "source": [
    "filter_q = { }\n",
    "project = {\"_id\":0,\"name\":1, \"ipo.valuation_amount\": 1}\n",
    "res = db.companies.find(filter_q, project)\n",
    "list( res.sort( [(\"ipo.valuation_amount\",-1)] ) )[:20]"
   ]
  },
  {
   "cell_type": "markdown",
   "metadata": {},
   "source": [
    "### 10. Retrieve the 10 companies with more employees, order by the `number of employees`"
   ]
  },
  {
   "cell_type": "code",
   "execution_count": 105,
   "metadata": {},
   "outputs": [
    {
     "data": {
      "text/plain": [
       "[{'name': 'Siemens', 'number_of_employees': 405000},\n",
       " {'name': 'IBM', 'number_of_employees': 388000},\n",
       " {'name': 'Toyota', 'number_of_employees': 320000},\n",
       " {'name': 'PayPal', 'number_of_employees': 300000},\n",
       " {'name': 'Nippon Telegraph and Telephone Corporation',\n",
       "  'number_of_employees': 227000},\n",
       " {'name': 'Samsung Electronics', 'number_of_employees': 221726},\n",
       " {'name': 'Accenture', 'number_of_employees': 205000},\n",
       " {'name': 'Tata Consultancy Services', 'number_of_employees': 200300},\n",
       " {'name': 'Flextronics International', 'number_of_employees': 200000},\n",
       " {'name': 'Safeway', 'number_of_employees': 186000}]"
      ]
     },
     "execution_count": 105,
     "metadata": {},
     "output_type": "execute_result"
    }
   ],
   "source": [
    "filter_q = { }\n",
    "project = {\"_id\":0,\"name\":1, \"number_of_employees\": 1}\n",
    "res = db.companies.find(filter_q, project)\n",
    "list( res.sort( [(\"number_of_employees\",-1)] ) )[:10]"
   ]
  },
  {
   "cell_type": "markdown",
   "metadata": {},
   "source": [
    "### 11. All the companies founded on the second semester of the year. Limit your search to 1000 companies."
   ]
  },
  {
   "cell_type": "code",
   "execution_count": 112,
   "metadata": {},
   "outputs": [
    {
     "data": {
      "text/plain": [
       "[{'name': 'Zoho', 'founded_month': 9},\n",
       " {'name': 'Omnidrive', 'founded_month': 11},\n",
       " {'name': 'Wetpaint', 'founded_month': 10},\n",
       " {'name': 'Digg', 'founded_month': 10},\n",
       " {'name': 'Joost', 'founded_month': 10},\n",
       " {'name': 'Plaxo', 'founded_month': 11},\n",
       " {'name': 'Powerset', 'founded_month': 10},\n",
       " {'name': 'Kyte', 'founded_month': 12},\n",
       " {'name': 'eBay', 'founded_month': 9},\n",
       " {'name': 'Wesabe', 'founded_month': 12},\n",
       " {'name': 'Thoof', 'founded_month': 12},\n",
       " {'name': 'SmugMug', 'founded_month': 11},\n",
       " {'name': 'LifeLock', 'founded_month': 8},\n",
       " {'name': 'Jingle Networks', 'founded_month': 9},\n",
       " {'name': 'Pando Networks', 'founded_month': 7},\n",
       " {'name': 'Ikan', 'founded_month': 12},\n",
       " {'name': 'delicious', 'founded_month': 9},\n",
       " {'name': 'AllPeers', 'founded_month': 8},\n",
       " {'name': 'Skype', 'founded_month': 8},\n",
       " {'name': 'SellABand', 'founded_month': 8}]"
      ]
     },
     "execution_count": 112,
     "metadata": {},
     "output_type": "execute_result"
    }
   ],
   "source": [
    "filter_q = { \"founded_month\":{\"$gt\": 6} }\n",
    "project = {\"_id\":0,\"name\":1, \"founded_month\": 1}\n",
    "res = db.companies.find(filter_q, project)\n",
    "list( res.limit(1000) )[:20]"
   ]
  },
  {
   "cell_type": "markdown",
   "metadata": {},
   "source": [
    "### 12. All the companies founded before 2000 that have an acquisition amount of more than 10.000.00"
   ]
  },
  {
   "cell_type": "code",
   "execution_count": 107,
   "metadata": {},
   "outputs": [
    {
     "data": {
      "text/plain": [
       "[{'name': 'Fox Interactive Media', 'founded_year': 1979},\n",
       " {'name': 'CBS', 'founded_year': 1986},\n",
       " {'name': 'Viacom', 'founded_year': 1971},\n",
       " {'name': 'eBay', 'founded_year': 1995},\n",
       " {'name': 'Cisco', 'founded_year': 1984},\n",
       " {'name': 'Ticketmaster', 'founded_year': 1976},\n",
       " {'name': 'Intel', 'founded_year': 1968},\n",
       " {'name': 'Scripps Networks Interactive', 'founded_year': 1994},\n",
       " {'name': 'Yahoo!', 'founded_year': 1994},\n",
       " {'name': 'NetSuite', 'founded_year': 1998},\n",
       " {'name': 'Google', 'founded_year': 1998},\n",
       " {'name': 'Sony', 'founded_year': 1946},\n",
       " {'name': 'Adobe Systems', 'founded_year': 1982},\n",
       " {'name': 'Qualcomm', 'founded_year': 1985},\n",
       " {'name': 'Citysearch', 'founded_year': 1995},\n",
       " {'name': 'The Walt Disney Company', 'founded_year': 1923},\n",
       " {'name': 'IAC', 'founded_year': 1995},\n",
       " {'name': 'PayPal', 'founded_year': 1998},\n",
       " {'name': 'Amazon', 'founded_year': 1994},\n",
       " {'name': 'AOL', 'founded_year': 1985}]"
      ]
     },
     "execution_count": 107,
     "metadata": {},
     "output_type": "execute_result"
    }
   ],
   "source": [
    "filter_q = { \"acquisitions.price_amount\":{\"$gt\": 10_000_00}, \"founded_year\": {\"$lt\": 2000} }\n",
    "project = {\"_id\":0,\"name\":1, \"founded_year\": 1}\n",
    "res = db.companies.find(filter_q, project)\n",
    "list( res )[:20]"
   ]
  },
  {
   "cell_type": "markdown",
   "metadata": {},
   "source": [
    "### 13. All the companies that have been acquired after 2010, order by the acquisition amount, and retrieve only their `name` and `acquisition` field."
   ]
  },
  {
   "cell_type": "code",
   "execution_count": 103,
   "metadata": {},
   "outputs": [
    {
     "data": {
      "text/plain": [
       "[{'name': 'Sprint Nextel',\n",
       "  'acquisition': {'price_amount': None,\n",
       "   'price_currency_code': 'USD',\n",
       "   'term_code': None,\n",
       "   'source_url': 'http://www.theverge.com/2012/10/18/3521256/softbank-buys-sprint-acquisition-news-rumors',\n",
       "   'source_description': 'SoftBank buys Sprint: everything you need to know about the $20.1 billion acquisition',\n",
       "   'acquired_year': 2012,\n",
       "   'acquired_month': 10,\n",
       "   'acquired_day': 18,\n",
       "   'acquiring_company': {'name': 'SoftBank', 'permalink': 'softbank'}}},\n",
       " {'name': 'Hewlett-Packard', 'acquisition': None},\n",
       " {'name': 'Google', 'acquisition': None},\n",
       " {'name': 'Amgen', 'acquisition': None},\n",
       " {'name': 'Vodafone', 'acquisition': None},\n",
       " {'name': 'Viacom', 'acquisition': None},\n",
       " {'name': 'Microsoft', 'acquisition': None},\n",
       " {'name': 'Nokia', 'acquisition': None},\n",
       " {'name': 'Intel', 'acquisition': None},\n",
       " {'name': 'Cisco', 'acquisition': None},\n",
       " {'name': 'The Walt Disney Company', 'acquisition': None},\n",
       " {'name': 'Texas Instruments', 'acquisition': None},\n",
       " {'name': 'Hologic', 'acquisition': None},\n",
       " {'name': 'SAP', 'acquisition': None},\n",
       " {'name': 'Xerox',\n",
       "  'acquisition': {'price_amount': 32500000,\n",
       "   'price_currency_code': 'USD',\n",
       "   'term_code': 'cash',\n",
       "   'source_url': 'http://www.webpronews.com/3d-systems-buys-a-chunk-of-xerox-for-32-5-million-2013-12',\n",
       "   'source_description': ' 3D Systems Buys A Chunk Of Xerox For $32.5 Million ',\n",
       "   'acquired_year': 2013,\n",
       "   'acquired_month': 12,\n",
       "   'acquired_day': 18,\n",
       "   'acquiring_company': {'name': '3D Systems', 'permalink': '3d-systems'}}},\n",
       " {'name': 'McKesson', 'acquisition': None},\n",
       " {'name': 'Yahoo!', 'acquisition': None},\n",
       " {'name': 'Panasonic', 'acquisition': None},\n",
       " {'name': 'AOL', 'acquisition': None},\n",
       " {'name': 'KDDI', 'acquisition': None}]"
      ]
     },
     "execution_count": 103,
     "metadata": {},
     "output_type": "execute_result"
    }
   ],
   "source": [
    "filter_q = { \"founded_year\":{\"$lt\": 2010} }\n",
    "project = {\"_id\":0,\"name\":1, \"acquisition\": 1}\n",
    "list( db.companies.find(filter_q, project).sort( [(\"acquisitions.price_amount\",-1)] ) )[:20]"
   ]
  },
  {
   "cell_type": "markdown",
   "metadata": {},
   "source": [
    "### 14. Order the companies by their `founded year`, retrieving only their `name` and `founded year`."
   ]
  },
  {
   "cell_type": "code",
   "execution_count": 108,
   "metadata": {},
   "outputs": [
    {
     "data": {
      "text/plain": [
       "[{'name': 'AdventNet', 'founded_year': 1996},\n",
       " {'name': 'Flektor', 'founded_year': None},\n",
       " {'name': 'Zoho', 'founded_year': 2005},\n",
       " {'name': 'Omnidrive', 'founded_year': 2005},\n",
       " {'name': 'Wetpaint', 'founded_year': 2005},\n",
       " {'name': 'Postini', 'founded_year': 1999},\n",
       " {'name': 'Geni', 'founded_year': 2006},\n",
       " {'name': 'Gizmoz', 'founded_year': 2003},\n",
       " {'name': 'Digg', 'founded_year': 2004},\n",
       " {'name': 'Helio', 'founded_year': 2005},\n",
       " {'name': 'Fox Interactive Media', 'founded_year': 1979},\n",
       " {'name': 'Lala', 'founded_year': None},\n",
       " {'name': 'Scribd', 'founded_year': 2007},\n",
       " {'name': 'Slacker', 'founded_year': 2006},\n",
       " {'name': 'StumbleUpon', 'founded_year': 2002},\n",
       " {'name': 'MeetMoi', 'founded_year': 2007},\n",
       " {'name': 'Babelgum', 'founded_year': 2007},\n",
       " {'name': 'Joost', 'founded_year': 2006},\n",
       " {'name': 'CBS', 'founded_year': 1986},\n",
       " {'name': 'Plaxo', 'founded_year': 2002}]"
      ]
     },
     "execution_count": 108,
     "metadata": {},
     "output_type": "execute_result"
    }
   ],
   "source": [
    "filter_q = {  }\n",
    "project = {\"_id\":0,\"name\":1, \"founded_year\": 1}\n",
    "res = db.companies.find(filter_q, project)\n",
    "list( res )[:20]"
   ]
  },
  {
   "cell_type": "markdown",
   "metadata": {},
   "source": [
    "### 15. All the companies that have been founded on the first seven days of the month, including the seventh. Sort them by their `acquisition price` in a descending order. Limit the search to 10 documents."
   ]
  },
  {
   "cell_type": "code",
   "execution_count": 113,
   "metadata": {},
   "outputs": [
    {
     "data": {
      "text/plain": [
       "[{'name': 'Google', 'founded_year': 1998},\n",
       " {'name': 'Microsoft', 'founded_year': 1974},\n",
       " {'name': 'Yahoo!', 'founded_year': 1994},\n",
       " {'name': 'Juniper Networks', 'founded_year': 1996},\n",
       " {'name': 'FlowPlay', 'founded_year': 2006},\n",
       " {'name': 'eBay', 'founded_year': 1995},\n",
       " {'name': 'IAC', 'founded_year': 1995},\n",
       " {'name': 'OpenText', 'founded_year': 1991},\n",
       " {'name': 'Facebook', 'founded_year': 2004},\n",
       " {'name': 'PayPal', 'founded_year': 1998}]"
      ]
     },
     "execution_count": 113,
     "metadata": {},
     "output_type": "execute_result"
    }
   ],
   "source": [
    "filter_q = { \"founded_day\": {\"$lte\":7} }\n",
    "project = {\"_id\":0,\"name\":1, \"founded_year\": 1}\n",
    "res = db.companies.find(filter_q, project)\n",
    "list( res.sort( [(\"acquisitions.price_amount\",-1)] ).limit(10) )"
   ]
  },
  {
   "cell_type": "markdown",
   "metadata": {},
   "source": [
    "### 16. All the companies on the 'web' `category` that have more than 4000 employees. Sort them by the amount of employees in ascending order."
   ]
  },
  {
   "cell_type": "code",
   "execution_count": 114,
   "metadata": {},
   "outputs": [
    {
     "data": {
      "text/plain": [
       "[{'name': 'Experian', 'number_of_employees': 15500},\n",
       " {'name': 'eBay', 'number_of_employees': 15000},\n",
       " {'name': 'Yahoo!', 'number_of_employees': 13600},\n",
       " {'name': 'Rakuten', 'number_of_employees': 10000},\n",
       " {'name': 'Los Angeles Times Media Group', 'number_of_employees': 10000},\n",
       " {'name': 'Groupon', 'number_of_employees': 10000},\n",
       " {'name': 'Webkinz', 'number_of_employees': 8657},\n",
       " {'name': 'AOL', 'number_of_employees': 8000},\n",
       " {'name': 'Expedia', 'number_of_employees': 4400}]"
      ]
     },
     "execution_count": 114,
     "metadata": {},
     "output_type": "execute_result"
    }
   ],
   "source": [
    "filter_q = { \"category_code\": \"web\", \"number_of_employees\": {\"$gt\": 4000} }\n",
    "project = {\"_id\":0,\"name\":1, \"number_of_employees\": 1}\n",
    "res = db.companies.find(filter_q, project)\n",
    "list( res.sort( [(\"number_of_employees\",-1)] ) )"
   ]
  },
  {
   "cell_type": "markdown",
   "metadata": {},
   "source": [
    "### 17. All the companies whose acquisition amount is more than 10.000.000, and currency is 'EUR'."
   ]
  },
  {
   "cell_type": "code",
   "execution_count": 132,
   "metadata": {},
   "outputs": [
    {
     "data": {
      "text/plain": [
       "[{'name': 'ZYB', 'acquisition': {'price_amount': 31500000}},\n",
       " {'name': 'Apertio', 'acquisition': {'price_amount': 140000000}},\n",
       " {'name': 'Greenfield Online', 'acquisition': {'price_amount': 40000000}},\n",
       " {'name': 'Webedia', 'acquisition': {'price_amount': 70000000}},\n",
       " {'name': 'Wayfinder', 'acquisition': {'price_amount': 24000000}},\n",
       " {'name': 'Tuenti Technologies', 'acquisition': {'price_amount': 70000000}},\n",
       " {'name': 'BioMed Central', 'acquisition': {'price_amount': 43400000}}]"
      ]
     },
     "execution_count": 132,
     "metadata": {},
     "output_type": "execute_result"
    }
   ],
   "source": [
    "# doesn't work with EUR \n",
    "filter_q = { \"acquisition.price_amount\": {\"$gt\": 10000000}, \"acquisition.price_currency_code\": \"EUR\"}\n",
    "project = {\"_id\":0,\"name\":1, \"acquisition.price_amount\": 1}\n",
    "res = db.companies.find(filter_q, project)\n",
    "list( res )"
   ]
  },
  {
   "cell_type": "markdown",
   "metadata": {},
   "source": [
    "### 18. All the companies that have been acquired on the first trimester of the year. Limit the search to 10 companies, and retrieve only their `name` and `acquisition` fields."
   ]
  },
  {
   "cell_type": "code",
   "execution_count": 123,
   "metadata": {},
   "outputs": [
    {
     "data": {
      "text/plain": [
       "[{'name': 'Gizmoz',\n",
       "  'acquisition': {'price_amount': None,\n",
       "   'price_currency_code': 'USD',\n",
       "   'term_code': None,\n",
       "   'source_url': 'http://www.gizmoz.com',\n",
       "   'source_description': 'TechCrunch',\n",
       "   'acquired_year': 2009,\n",
       "   'acquired_month': 12,\n",
       "   'acquired_day': 15,\n",
       "   'acquiring_company': {'name': 'Daz 3d', 'permalink': 'daz-3d'}}},\n",
       " {'name': 'Helio',\n",
       "  'acquisition': {'price_amount': 39000000,\n",
       "   'price_currency_code': 'USD',\n",
       "   'term_code': 'stock',\n",
       "   'source_url': 'http://news.cnet.com/8301-10784_3-9978991-7.html',\n",
       "   'source_description': 'Virgin Mobile USA buys Helio for $39 million',\n",
       "   'acquired_year': 2008,\n",
       "   'acquired_month': 6,\n",
       "   'acquired_day': 27,\n",
       "   'acquiring_company': {'name': 'Virgin Mobile USA',\n",
       "    'permalink': 'virgin-mobile'}}},\n",
       " {'name': 'StumbleUpon',\n",
       "  'acquisition': {'price_amount': 29000000,\n",
       "   'price_currency_code': 'USD',\n",
       "   'term_code': None,\n",
       "   'source_url': 'http://techcrunch.com/2009/04/13/ebay-unacquires-stumbleupon/',\n",
       "   'source_description': \"StumbleUpon Beats Skype In Escaping EBay's Clutches\",\n",
       "   'acquired_year': 2009,\n",
       "   'acquired_month': 4,\n",
       "   'acquired_day': None,\n",
       "   'acquiring_company': {'name': 'StumbleUpon', 'permalink': 'stumbleupon'}}},\n",
       " {'name': 'Babelgum', 'acquisition': None},\n",
       " {'name': 'Twitter', 'acquisition': None},\n",
       " {'name': 'Facebook', 'acquisition': None},\n",
       " {'name': 'Mahalo', 'acquisition': None},\n",
       " {'name': 'Meetup', 'acquisition': None},\n",
       " {'name': 'Jangl SMS', 'acquisition': None},\n",
       " {'name': 'Prosper', 'acquisition': None}]"
      ]
     },
     "execution_count": 123,
     "metadata": {},
     "output_type": "execute_result"
    }
   ],
   "source": [
    "filter_q = { \"founded_month\":{\"$lte\": 4} }\n",
    "project = {\"_id\":0,\"name\":1, \"acquisition\": 1}\n",
    "res = db.companies.find(filter_q, project)\n",
    "list( res.limit(10) )"
   ]
  },
  {
   "cell_type": "markdown",
   "metadata": {},
   "source": [
    "# Bonus\n",
    "### 19. All the companies that have been founded between 2000 and 2010, but have not been acquired before 2011."
   ]
  },
  {
   "cell_type": "code",
   "execution_count": 139,
   "metadata": {},
   "outputs": [
    {
     "data": {
      "text/plain": [
       "[{'name': 'StumbleUpon',\n",
       "  'acquisitions': [{'acquired_year': 2009}, {'acquired_year': 2013}]},\n",
       " {'name': 'Twitter',\n",
       "  'acquisitions': [{'acquired_year': 2008},\n",
       "   {'acquired_year': 2008},\n",
       "   {'acquired_year': 2009},\n",
       "   {'acquired_year': 2010},\n",
       "   {'acquired_year': 2010},\n",
       "   {'acquired_year': 2010},\n",
       "   {'acquired_year': 2010},\n",
       "   {'acquired_year': 2010},\n",
       "   {'acquired_year': 2011},\n",
       "   {'acquired_year': 2011},\n",
       "   {'acquired_year': 2011},\n",
       "   {'acquired_year': 2011},\n",
       "   {'acquired_year': 2011},\n",
       "   {'acquired_year': 2011},\n",
       "   {'acquired_year': 2012},\n",
       "   {'acquired_year': 2012},\n",
       "   {'acquired_year': 2012},\n",
       "   {'acquired_year': 2012},\n",
       "   {'acquired_year': 2012},\n",
       "   {'acquired_year': 2012},\n",
       "   {'acquired_year': 2012},\n",
       "   {'acquired_year': 2013},\n",
       "   {'acquired_year': 2013},\n",
       "   {'acquired_year': 2013},\n",
       "   {'acquired_year': 2013},\n",
       "   {'acquired_year': 2013},\n",
       "   {'acquired_year': 2013},\n",
       "   {'acquired_year': 2013},\n",
       "   {'acquired_year': 2013}]}]"
      ]
     },
     "execution_count": 139,
     "metadata": {},
     "output_type": "execute_result"
    }
   ],
   "source": [
    "filter_q = { \"founded_year\":{\"$gte\":2000,\"$lte\": 2010}, \"acquisitions.acquired_year\":{\"$gte\":2011} }\n",
    "project = {\"_id\":0,\"name\":1, \"acquisitions.acquired_year\": 1}\n",
    "list( db.companies.find(filter_q, project) )[:2]"
   ]
  },
  {
   "cell_type": "markdown",
   "metadata": {},
   "source": [
    "### 20. All the companies that have been 'deadpooled' after the third year."
   ]
  },
  {
   "cell_type": "code",
   "execution_count": 140,
   "metadata": {},
   "outputs": [
    {
     "ename": "TypeError",
     "evalue": "'>' not supported between instances of 'dict' and 'int'",
     "output_type": "error",
     "traceback": [
      "\u001b[0;31m---------------------------------------------------------------------------\u001b[0m",
      "\u001b[0;31mTypeError\u001b[0m                                 Traceback (most recent call last)",
      "\u001b[0;32m<ipython-input-140-a52cfcfefc39>\u001b[0m in \u001b[0;36m<module>\u001b[0;34m\u001b[0m\n\u001b[1;32m      1\u001b[0m \u001b[0mdiff\u001b[0m \u001b[0;34m=\u001b[0m \u001b[0;34m{\u001b[0m \u001b[0;34m\"$subtract\"\u001b[0m\u001b[0;34m:\u001b[0m \u001b[0;34m[\u001b[0m \u001b[0;34m\"deadpooled_year\"\u001b[0m\u001b[0;34m,\u001b[0m \u001b[0;34m\"founded_year\"\u001b[0m \u001b[0;34m]\u001b[0m \u001b[0;34m}\u001b[0m\u001b[0;34m\u001b[0m\u001b[0;34m\u001b[0m\u001b[0m\n\u001b[0;32m----> 2\u001b[0;31m \u001b[0mfilter_q\u001b[0m \u001b[0;34m=\u001b[0m \u001b[0;34m{\u001b[0m\u001b[0;34m\"$where\"\u001b[0m\u001b[0;34m:\u001b[0m \u001b[0mdiff\u001b[0m \u001b[0;34m>\u001b[0m \u001b[0;36m3\u001b[0m\u001b[0;34m}\u001b[0m\u001b[0;34m\u001b[0m\u001b[0;34m\u001b[0m\u001b[0m\n\u001b[0m\u001b[1;32m      3\u001b[0m \u001b[0mproject\u001b[0m \u001b[0;34m=\u001b[0m \u001b[0;34m{\u001b[0m\u001b[0;34m\"_id\"\u001b[0m\u001b[0;34m:\u001b[0m\u001b[0;36m0\u001b[0m\u001b[0;34m,\u001b[0m\u001b[0;34m\"name\"\u001b[0m\u001b[0;34m:\u001b[0m\u001b[0;36m1\u001b[0m\u001b[0;34m,\u001b[0m \u001b[0;34m\"founded_year\"\u001b[0m\u001b[0;34m:\u001b[0m \u001b[0;36m1\u001b[0m\u001b[0;34m,\u001b[0m \u001b[0;34m\"deadpooled_year\"\u001b[0m\u001b[0;34m:\u001b[0m \u001b[0;36m1\u001b[0m\u001b[0;34m}\u001b[0m\u001b[0;34m\u001b[0m\u001b[0;34m\u001b[0m\u001b[0m\n\u001b[1;32m      4\u001b[0m \u001b[0mres\u001b[0m \u001b[0;34m=\u001b[0m \u001b[0mdb\u001b[0m\u001b[0;34m.\u001b[0m\u001b[0mcompanies\u001b[0m\u001b[0;34m.\u001b[0m\u001b[0mfind\u001b[0m\u001b[0;34m(\u001b[0m\u001b[0mfilter_q\u001b[0m\u001b[0;34m,\u001b[0m \u001b[0mproject\u001b[0m\u001b[0;34m)\u001b[0m\u001b[0;34m\u001b[0m\u001b[0;34m\u001b[0m\u001b[0m\n\u001b[1;32m      5\u001b[0m \u001b[0mlist\u001b[0m\u001b[0;34m(\u001b[0m \u001b[0mres\u001b[0m \u001b[0;34m)\u001b[0m\u001b[0;34m\u001b[0m\u001b[0;34m\u001b[0m\u001b[0m\n",
      "\u001b[0;31mTypeError\u001b[0m: '>' not supported between instances of 'dict' and 'int'"
     ]
    }
   ],
   "source": [
    "{ \"$cond\" : { if: {\"$subtract\": [ \"deadpooled_year\", \"founded_year\"} >  3] then: <true-case>, else: <false-case> } }\n",
    "for i in \n",
    "\n",
    "diff = { \"$subtract\": [ \"deadpooled_year\", \"founded_year\" ] }\n",
    "filter_q = {\"$where\": diff > 3}\n",
    "project = {\"_id\":0,\"name\":1, \"founded_year\": 1, \"deadpooled_year\": 1}\n",
    "res = db.companies.find(filter_q, project)\n",
    "list( res ) "
   ]
  },
  {
   "cell_type": "code",
   "execution_count": null,
   "metadata": {},
   "outputs": [],
   "source": []
  }
 ],
 "metadata": {
  "kernelspec": {
   "display_name": "Python 3",
   "language": "python",
   "name": "python3"
  },
  "language_info": {
   "codemirror_mode": {
    "name": "ipython",
    "version": 3
   },
   "file_extension": ".py",
   "mimetype": "text/x-python",
   "name": "python",
   "nbconvert_exporter": "python",
   "pygments_lexer": "ipython3",
   "version": "3.8.5"
  }
 },
 "nbformat": 4,
 "nbformat_minor": 2
}
